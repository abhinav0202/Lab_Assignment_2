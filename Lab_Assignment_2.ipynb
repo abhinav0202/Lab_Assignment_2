{
 "cells": [
  {
   "cell_type": "markdown",
   "metadata": {},
   "source": [
    "# question 1"
   ]
  },
  {
   "cell_type": "code",
   "execution_count": 7,
   "metadata": {
    "scrolled": false
   },
   "outputs": [
    {
     "name": "stdout",
     "output_type": "stream",
     "text": [
      "hello, world! \n",
      "hello, world! \n",
      "hello, world! \n",
      "hello, world! \n",
      "hello, world! \n",
      "\n"
     ]
    }
   ],
   "source": [
    "\n",
    "print(\"hello, world! \\n\" * 5)"
   ]
  },
  {
   "cell_type": "markdown",
   "metadata": {},
   "source": [
    "# question 2"
   ]
  },
  {
   "cell_type": "code",
   "execution_count": 33,
   "metadata": {},
   "outputs": [
    {
     "name": "stdout",
     "output_type": "stream",
     "text": [
      "[3, 5]\n"
     ]
    }
   ],
   "source": [
    "def fun(l):\n",
    "    _size = len(l)\n",
    "    repeated = []\n",
    "    for i in range(_size):\n",
    "        k = i + 1\n",
    "        for j in range(k, _size):\n",
    "            if l[i] == l[j] and l[i] not in repeated:\n",
    "                repeated.append(l[i])\n",
    "    print(repeated)\n",
    " \n",
    "l=[1,2,3,4,5,5,5,3]\n",
    "fun(l)\n"
   ]
  },
  {
   "cell_type": "markdown",
   "metadata": {},
   "source": [
    "# question 3"
   ]
  },
  {
   "cell_type": "code",
   "execution_count": 26,
   "metadata": {},
   "outputs": [
    {
     "name": "stdout",
     "output_type": "stream",
     "text": [
      "[[1, 2, 3], [4, 5, 5], [5, 3]]\n"
     ]
    }
   ],
   "source": [
    "def group(x,l):\n",
    "        gl=[]\n",
    "        g=[]\n",
    "        i=0\n",
    "        while i<len(x):\n",
    "                if(len(gl)<l):\n",
    "                        gl.append(x[i])\n",
    "                        i=i+1\n",
    "                else:\n",
    "                        g.append(gl)\n",
    "                        gl=[]\n",
    "        g.append(gl)\n",
    "        return g\n",
    "\n",
    "print(group([1,2,3,4,5,5,5,3],3))\n",
    "\n",
    "   "
   ]
  },
  {
   "cell_type": "markdown",
   "metadata": {},
   "source": [
    "# question 4"
   ]
  },
  {
   "cell_type": "code",
   "execution_count": 30,
   "metadata": {},
   "outputs": [
    {
     "name": "stdout",
     "output_type": "stream",
     "text": [
      "['hello', 'hiiiu', 'abhinav', 'helloall']\n"
     ]
    }
   ],
   "source": [
    "l = [\"hello\", \"helloall\", \"abhinav\", \"hiiiu\"]\n",
    "l.sort(key=len)\n",
    "print(l)\n"
   ]
  },
  {
   "cell_type": "markdown",
   "metadata": {},
   "source": [
    "# question 5"
   ]
  },
  {
   "cell_type": "code",
   "execution_count": 31,
   "metadata": {},
   "outputs": [
    {
     "name": "stdout",
     "output_type": "stream",
     "text": [
      "['a.c', 'x.c', 'a.py', 'b.py', 'bar.txt', 'foo.txt']\n"
     ]
    }
   ],
   "source": [
    "def extsort(x):\n",
    "    i=0\n",
    "    while(i<len(x)):\n",
    "         x[i]=x[i].split('.')\n",
    "         i=i+1\n",
    "    x.sort(key=lambda x:x[1])\n",
    "    i=0\n",
    "    while(i<len(x)):\n",
    "         x[i]=\".\".join(x[i])\n",
    "         i=i+1 \n",
    "    return x\n",
    "print (extsort(['a.c', 'a.py', 'b.py', 'bar.txt', 'foo.txt', 'x.c']))\n"
   ]
  },
  {
   "cell_type": "markdown",
   "metadata": {},
   "source": [
    "# question 6"
   ]
  },
  {
   "cell_type": "code",
   "execution_count": 3,
   "metadata": {},
   "outputs": [
    {
     "name": "stdout",
     "output_type": "stream",
     "text": [
      "Abhinav\n",
      "Temp\n",
      "\n",
      "Abhinav\n",
      "Temp\n",
      "Hello! How are you?\n",
      "Abhinav\n",
      "\n"
     ]
    }
   ],
   "source": [
    "Names = open(\"test1.txt\", \"w\")\n",
    "Names.write(\"Abhinav\\n\")\n",
    "Names.write(\"Temp\\n\")\n",
    "Names.close()\n",
    "\n",
    "Names = open(\"test1.txt\", \"r\")\n",
    "print(Names.read())\n",
    "Names.close()\n",
    "\n",
    "Names = open(\"test1.txt\", \"a\")\n",
    "Names.writelines([\"Hello! \", \"How are you?\"])\n",
    "Names.close()\n",
    "\n",
    "Names = open(\"test1.txt\", \"r\")\n",
    "print(Names.read())\n",
    "Names.close()\n",
    "\n",
    "Names = open(\"test1.txt\",\"r\")\n",
    "print(Names.readline())\n"
   ]
  },
  {
   "cell_type": "markdown",
   "metadata": {},
   "source": [
    "# question 7"
   ]
  },
  {
   "cell_type": "code",
   "execution_count": 4,
   "metadata": {},
   "outputs": [
    {
     "name": "stdout",
     "output_type": "stream",
     "text": [
      "Words:  6\n",
      "Lines:  3\n",
      "Characters:  32\n"
     ]
    }
   ],
   "source": [
    "def countWords(fileName):\n",
    "    numwords = 0\n",
    "    numchars = 0\n",
    "    numlines = 0\n",
    "\n",
    "    with open(fileName, 'r') as file:\n",
    "        for line in file:\n",
    "            numlines += 1\n",
    "            wordlist = line.split()\n",
    "            numwords += len(wordlist)\n",
    "            numchars += len(line)\n",
    "\n",
    "    print (\"Words: \", numwords)\n",
    "    print (\"Lines: \", numlines)\n",
    "    print (\"Characters: \", numchars)\n",
    "\n",
    "countWords(\"test1.txt\")"
   ]
  },
  {
   "cell_type": "markdown",
   "metadata": {},
   "source": [
    "# question 8"
   ]
  },
  {
   "cell_type": "code",
   "execution_count": 5,
   "metadata": {},
   "outputs": [
    {
     "name": "stdout",
     "output_type": "stream",
     "text": [
      "Hello! How are you?\n",
      "Temp\n",
      "Abhinav\n"
     ]
    }
   ],
   "source": [
    "def Reverse_Content():\n",
    "      Names = open(\"test1.txt\",\"r\")\n",
    "      k=Names.readlines()\n",
    "      t=reversed(k)\n",
    "      for i in t:\n",
    "           print(i.rstrip())\n",
    "\n",
    "Reverse_Content()"
   ]
  },
  {
   "cell_type": "markdown",
   "metadata": {},
   "source": [
    "# question 9"
   ]
  },
  {
   "cell_type": "code",
   "execution_count": 6,
   "metadata": {},
   "outputs": [
    {
     "name": "stdout",
     "output_type": "stream",
     "text": [
      "\n",
      "vanihbA\n",
      "\n",
      "pmeT\n",
      "?uoy era woH !olleH\n"
     ]
    }
   ],
   "source": [
    "def reverse_slicing(s):\n",
    "    return s[::-1]\n",
    "\n",
    "textfile = open(\"test1.txt\")\n",
    "lines = textfile.readlines()\n",
    "for line in lines:\n",
    "    print(reverse_slicing(line))"
   ]
  }
 ],
 "metadata": {
  "kernelspec": {
   "display_name": "Python 3",
   "language": "python",
   "name": "python3"
  },
  "language_info": {
   "codemirror_mode": {
    "name": "ipython",
    "version": 3
   },
   "file_extension": ".py",
   "mimetype": "text/x-python",
   "name": "python",
   "nbconvert_exporter": "python",
   "pygments_lexer": "ipython3",
   "version": "3.7.6"
  }
 },
 "nbformat": 4,
 "nbformat_minor": 4
}
